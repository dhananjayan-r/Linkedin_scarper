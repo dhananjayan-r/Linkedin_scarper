{
 "cells": [
  {
   "cell_type": "code",
   "execution_count": null,
   "metadata": {},
   "outputs": [],
   "source": [
    "#The prerequiste version of google chrome driver in path \n",
    "chromeOptions = webdriver.ChromeOptions()\n",
    "chromeOptions.binary_location = \"C:\\Program Files\\Google\\Chrome\\Application\\chrome.exe\"\n",
    "b = webdriver.Chrome(options=chromeOptions, executable_path=\"C:\\Users\\dhananjayan\\Downloads\\chromedriver_win32\\chromedriver.exe\\chrome.exe\")"
   ]
  },
  {
   "cell_type": "code",
   "execution_count": 19,
   "metadata": {},
   "outputs": [],
   "source": [
    "#import required libraries\n",
    "from bs4 import BeautifulSoup\n",
    "import re \n",
    "from random import randint\n",
    "from time import sleep\n",
    "import pandas as pd\n",
    "from selenium import webdriver\n",
    "browser = webdriver.Chrome('chromedriver_win32/chromedriver.exe')"
   ]
  },
  {
   "cell_type": "code",
   "execution_count": 20,
   "metadata": {},
   "outputs": [],
   "source": [
    "browser.get('https://www.linkedin.com/login?fromSignIn=true&trk=guest_homepage-basic_nav-header-signin')\n",
    "\n",
    "\n",
    "#Enter login info:\n",
    "elementID = browser.find_element_by_id('username')\n",
    "elementID.send_keys('xxxxxxxxxxxxx')\n",
    "\n",
    "elementID = browser.find_element_by_id('password')\n",
    "elementID.send_keys(xxxxxxxxxxxxxx)\n",
    "#Note: replace the keys \"username\" and \"password\" with your LinkedIn login info\n",
    "elementID.submit()\n",
    "sleep(3)"
   ]
  },
  {
   "cell_type": "code",
   "execution_count": 21,
   "metadata": {},
   "outputs": [],
   "source": [
    "#there is a default message notification pop is set as default in linkedin, so , I just initiate a click to pushdown notification\n",
    "\n",
    "from selenium.common.exceptions import NoSuchElementException\n",
    "try:\n",
    "    if browser.find_element_by_class_name('msg-overlay-list-bubble--is-minimized') is not None:\n",
    "        pass\n",
    "except NoSuchElementException:\n",
    "    try:\n",
    "        if browser.find_element_by_class_name('msg-overlay-bubble-header') is not None:\n",
    "            browser.find_element_by_class_name('msg-overlay-bubble-header').click()\n",
    "    except NoSuchElementException:\n",
    "        pass"
   ]
  },
  {
   "cell_type": "code",
   "execution_count": 22,
   "metadata": {},
   "outputs": [],
   "source": [
    "#Go to webpage job search and filter as per requirements (here just jobs posted past 24 hours) automated\n",
    "browser.get('https://www.linkedin.com/jobs/?showJobAlertsModal=false')\n",
    "\n",
    "#Find search box\n",
    "jobID = browser.find_element_by_class_name('jobs-search-box__text-input')\n",
    "search = browser.find_element_by_class_name('jobs-search-box__submit-button')\n",
    "search.click()\n",
    "sleep(5)\n",
    "\n",
    "browser.find_element_by_xpath('//button[text()=\"Date Posted\"]').click()\n",
    "sleep(3)\n",
    "browser.find_element_by_xpath('//span[text()=\"Past 24 hours\"]').click()\n",
    "sleep(3)\n",
    "browser.find_element_by_xpath('//span[text()=\"Show results\"]').click()\n",
    "sleep(3)"
   ]
  },
  {
   "cell_type": "code",
   "execution_count": 23,
   "metadata": {
    "scrolled": true
   },
   "outputs": [],
   "source": [
    "#getting the pagesource and reading the source\n",
    "\n",
    "pageSource = browser.page_source\n",
    "soup = BeautifulSoup(pageSource, 'lxml')\n",
    "\n",
    "# searching for all job containers\n",
    "location_containers = soup.find_all('div', class_ = 'job-card-container')\n",
    "\n",
    "#Initialze variables to store scarped data\n",
    "job_id = []\n",
    "post_title = []\n",
    "company_name = []\n",
    "job_location = []\n",
    "job_desc = []\n",
    "\n",
    "for job in location_containers:\n",
    "    \n",
    "    # job title\n",
    "    job_titles = job.find(class_=\"job-card-list__title\").text\n",
    "    post_title.append(job_titles)\n",
    "    \n",
    "    job_ids = job.find('a',href=True)['href']\n",
    "    job_ids = re.search(\"[0-9]+\",job_ids)[0]\n",
    "    job_id.append(job_ids)\n",
    "    \n",
    "    company_names = job.select_one('img')['alt']\n",
    "    company_name.append(company_names[0:-4])\n",
    "    \n",
    "    job_locations = job.find(\"li\", class_=\"job-card-container__metadata-item\").text\n",
    "    job_location.append(job_locations)\n",
    "\n",
    "#the tricky part is to scarpe job description which is shown after clicking the respective hover_job_tiles\n",
    "for x in range(1,len(job_id)+1):\n",
    "    job_xpath = '//section[1]/div/div/ul/li[{}]'.format(x)\n",
    "    browser.find_element_by_xpath(job_xpath).click()\n",
    "    sleep(3)\n",
    "    jobdesc_xpath = '//section[2]/div/div/div[1]/div/div[2]/article/div/div[1]/span'\n",
    "    job_descs = browser.find_element_by_xpath(jobdesc_xpath).text\n",
    "    job_desc.append(job_descs)"
   ]
  },
  {
   "cell_type": "code",
   "execution_count": 25,
   "metadata": {},
   "outputs": [],
   "source": [
    "#we can store the data in a pandas dataframe input as keyvalue pair,\n",
    "job_data = pd.DataFrame({'Job ID': job_id,\n",
    "'Company Name': company_name,\n",
    "'Post': post_title,\n",
    "'Location': job_location,\n",
    "'Description': job_desc,                         \n",
    "})\n",
    "\n",
    "#string manipulation can be done after this\n",
    "job_data['Post'] = job_data['Post'].str.replace('\\n',' ')\n",
    "job_data['Description']=job_data['Description'].str.replace('\\n',' ')\n"
   ]
  },
  {
   "cell_type": "code",
   "execution_count": 26,
   "metadata": {},
   "outputs": [
    {
     "data": {
      "text/html": [
       "<div>\n",
       "<style scoped>\n",
       "    .dataframe tbody tr th:only-of-type {\n",
       "        vertical-align: middle;\n",
       "    }\n",
       "\n",
       "    .dataframe tbody tr th {\n",
       "        vertical-align: top;\n",
       "    }\n",
       "\n",
       "    .dataframe thead th {\n",
       "        text-align: right;\n",
       "    }\n",
       "</style>\n",
       "<table border=\"1\" class=\"dataframe\">\n",
       "  <thead>\n",
       "    <tr style=\"text-align: right;\">\n",
       "      <th></th>\n",
       "      <th>Job ID</th>\n",
       "      <th>Company Name</th>\n",
       "      <th>Post</th>\n",
       "      <th>Location</th>\n",
       "      <th>Description</th>\n",
       "    </tr>\n",
       "  </thead>\n",
       "  <tbody>\n",
       "    <tr>\n",
       "      <th>0</th>\n",
       "      <td>2465788985</td>\n",
       "      <td>Amazon</td>\n",
       "      <td>Digital Content Associate</td>\n",
       "      <td>Chennai, Tamil Nadu, India</td>\n",
       "      <td>Filing of applications and complying other rel...</td>\n",
       "    </tr>\n",
       "    <tr>\n",
       "      <th>1</th>\n",
       "      <td>2474142681</td>\n",
       "      <td>Crossover for Work</td>\n",
       "      <td>Technical Team Lead (Remote) - $1...</td>\n",
       "      <td>Mumbai, Maharashtra, India</td>\n",
       "      <td>Are you a great developer whose skills have be...</td>\n",
       "    </tr>\n",
       "    <tr>\n",
       "      <th>2</th>\n",
       "      <td>2477313583</td>\n",
       "      <td>Cognizant</td>\n",
       "      <td>Jr. Executive - TAG</td>\n",
       "      <td>Chennai, Tamil Nadu, India</td>\n",
       "      <td>#Coordinator – North America Campus Recruitmen...</td>\n",
       "    </tr>\n",
       "    <tr>\n",
       "      <th>3</th>\n",
       "      <td>2466400546</td>\n",
       "      <td>Accenture in India</td>\n",
       "      <td>Associate-Reporting</td>\n",
       "      <td>Chennai, Tamil Nadu, India</td>\n",
       "      <td>Skill required: Reporting - Microsoft Power BI...</td>\n",
       "    </tr>\n",
       "    <tr>\n",
       "      <th>4</th>\n",
       "      <td>2465749927</td>\n",
       "      <td>Philips</td>\n",
       "      <td>Data Specialist</td>\n",
       "      <td>Chennai, Tamil Nadu, India</td>\n",
       "      <td>Responsibilities Ability to understand the dat...</td>\n",
       "    </tr>\n",
       "    <tr>\n",
       "      <th>5</th>\n",
       "      <td>2454857799</td>\n",
       "      <td>Blackboard</td>\n",
       "      <td>Data Analyst</td>\n",
       "      <td>Chennai, Tamil Nadu, India</td>\n",
       "      <td>Data Analyst  Chennai, India  The Opportunity ...</td>\n",
       "    </tr>\n",
       "    <tr>\n",
       "      <th>6</th>\n",
       "      <td>2477469508</td>\n",
       "      <td>RemoteHub</td>\n",
       "      <td>WORK FROM HOME WITHOUT STRESS    ...</td>\n",
       "      <td>Madanpur, Bihar, India</td>\n",
       "      <td>Hello My Name is Ruth Clara I work for Orphans...</td>\n",
       "    </tr>\n",
       "  </tbody>\n",
       "</table>\n",
       "</div>"
      ],
      "text/plain": [
       "       Job ID         Company Name  \\\n",
       "0  2465788985              Amazon    \n",
       "1  2474142681  Crossover for Work    \n",
       "2  2477313583           Cognizant    \n",
       "3  2466400546  Accenture in India    \n",
       "4  2465749927             Philips    \n",
       "5  2454857799          Blackboard    \n",
       "6  2477469508           RemoteHub    \n",
       "\n",
       "                                                Post  \\\n",
       "0               Digital Content Associate              \n",
       "1               Technical Team Lead (Remote) - $1...   \n",
       "2                     Jr. Executive - TAG              \n",
       "3                     Associate-Reporting              \n",
       "4                         Data Specialist              \n",
       "5                            Data Analyst              \n",
       "6               WORK FROM HOME WITHOUT STRESS    ...   \n",
       "\n",
       "                     Location  \\\n",
       "0  Chennai, Tamil Nadu, India   \n",
       "1  Mumbai, Maharashtra, India   \n",
       "2  Chennai, Tamil Nadu, India   \n",
       "3  Chennai, Tamil Nadu, India   \n",
       "4  Chennai, Tamil Nadu, India   \n",
       "5  Chennai, Tamil Nadu, India   \n",
       "6      Madanpur, Bihar, India   \n",
       "\n",
       "                                         Description  \n",
       "0  Filing of applications and complying other rel...  \n",
       "1  Are you a great developer whose skills have be...  \n",
       "2  #Coordinator – North America Campus Recruitmen...  \n",
       "3  Skill required: Reporting - Microsoft Power BI...  \n",
       "4  Responsibilities Ability to understand the dat...  \n",
       "5  Data Analyst  Chennai, India  The Opportunity ...  \n",
       "6  Hello My Name is Ruth Clara I work for Orphans...  "
      ]
     },
     "execution_count": 26,
     "metadata": {},
     "output_type": "execute_result"
    }
   ],
   "source": [
    "#created database\n",
    "job_data"
   ]
  },
  {
   "cell_type": "code",
   "execution_count": 27,
   "metadata": {},
   "outputs": [],
   "source": [
    "#we can store the data in any database Create an in-memory SQLite database, when In production you can config to any database\n",
    "\n",
    "from sqlalchemy import create_engine\n",
    "engine = create_engine('sqlite://', echo=False)"
   ]
  },
  {
   "cell_type": "code",
   "execution_count": 28,
   "metadata": {},
   "outputs": [],
   "source": [
    "#dumping the data\n",
    "job_data.to_sql('job_datas', con=engine)"
   ]
  },
  {
   "cell_type": "code",
   "execution_count": 29,
   "metadata": {},
   "outputs": [
    {
     "name": "stdout",
     "output_type": "stream",
     "text": [
      "[(0, '2465788985', 'Amazon ', '             Digital Content Associate           ', 'Chennai, Tamil Nadu, India', 'Filing of applications and complying other relevant procedures for registration of Trade Marks, Designs and Copyrights.2. Attending matters before Tr ... (33 characters truncated) ... IPAB etc. at Chennai as applicable.  Junior Associate  Skills: Associate, Legal  Experience: 2.00-3.00 Years  Education: Bachelors of Law (B.L/L.L.B)'), (1, '2474142681', 'Crossover for Work ', '             Technical Team Lead (Remote) - $100,000/year USD           ', 'Mumbai, Maharashtra, India', 'Are you a great developer whose skills have been noticed by both your manager and peers alike? Your teammates come to you for technical advice and in ... (4444 characters truncated) ... tps://www.crossover.com/auth/reset-password if you already applied using LinkedIn EasyApply. Crossover Job Code: LJ-3879-IN-Mumbai-TechnicalTeamL.010'), (2, '2477313583', 'Cognizant ', '             Jr. Executive - TAG           ', 'Chennai, Tamil Nadu, India', \"#Coordinator – North America Campus Recruitment  Cognizant specializes in helping some of the world’s most established companies to stay the most lov ... (3378 characters truncated) ... sted among the most admired companies in the world. Learn how Cognizant helps clients lead with digital at www.cognizant.com or follow us @Cognizant.\"), (3, '2466400546', 'Accenture in India ', '             Associate-Reporting           ', 'Chennai, Tamil Nadu, India', \"Skill required: Reporting - Microsoft Power BI  Designation: Management Level - Associate  Job Location: Chennai  Qualifications: Any Graduation  Yea ... (2234 characters truncated) ... as a part of a team, with a predetermined focused scope of work.  Please note this role may require you to work in rotational shifts.  Any Graduation\"), (4, '2465749927', 'Philips ', '             Data Specialist           ', 'Chennai, Tamil Nadu, India', 'Responsibilities Ability to understand the data and understand the story Ability to handle large amounts of data and have an eye for detail Innovativ ... (1675 characters truncated) ... ories from our employee blog. Once there,you can also learn about our recruitment process, or find answers to some of the frequently asked questions.'), (5, '2454857799', 'Blackboard ', '             Data Analyst           ', 'Chennai, Tamil Nadu, India', \"Data Analyst  Chennai, India  The Opportunity  We’re looking for a Data Analyst to help us push the boundaries of what education can offer through th ... (4529 characters truncated) ... , protected military/veteran status, or any other legally protected factor.  Location/Division:  Chennai, Tamil Nadu, India  Job Requisition  BB-3813\"), (6, '2477469508', 'RemoteHub ', '             WORK FROM HOME WITHOUT STRESS           ', 'Madanpur, Bihar, India', \"Hello My Name is Ruth Clara I work for Orphans in Needs we are Us Charity that's aims to create opportunities for orphans due to most people looses t ... (161 characters truncated) ... ll be receiving 10percent of any transaction made through you from our organization committee.  Apply for this WORK FROM HOME WITHOUT STRESS position\")]\n"
     ]
    }
   ],
   "source": [
    "print(engine.execute(\"SELECT * FROM job_datas\").fetchall())"
   ]
  },
  {
   "cell_type": "code",
   "execution_count": null,
   "metadata": {},
   "outputs": [],
   "source": []
  }
 ],
 "metadata": {
  "kernelspec": {
   "display_name": "Python 3",
   "language": "python",
   "name": "python3"
  },
  "language_info": {
   "codemirror_mode": {
    "name": "ipython",
    "version": 3
   },
   "file_extension": ".py",
   "mimetype": "text/x-python",
   "name": "python",
   "nbconvert_exporter": "python",
   "pygments_lexer": "ipython3",
   "version": "3.8.5"
  }
 },
 "nbformat": 4,
 "nbformat_minor": 4
}
